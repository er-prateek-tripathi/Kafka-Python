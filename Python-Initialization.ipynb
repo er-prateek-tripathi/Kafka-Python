{
 "cells": [
  {
   "cell_type": "code",
   "execution_count": 2,
   "metadata": {
    "collapsed": true,
    "ExecuteTime": {
     "end_time": "2023-12-29T06:11:22.394028700Z",
     "start_time": "2023-12-29T06:11:18.984997500Z"
    }
   },
   "outputs": [
    {
     "name": "stdout",
     "output_type": "stream",
     "text": [
      "Collecting kafka-python\n",
      "  Downloading kafka_python-2.0.2-py2.py3-none-any.whl (246 kB)\n",
      "     ---------------------------------------- 0.0/246.5 kB ? eta -:--:--\n",
      "     ----------------- -------------------- 112.6/246.5 kB 3.3 MB/s eta 0:00:01\n",
      "     -------------------------------------- 246.5/246.5 kB 3.0 MB/s eta 0:00:00\n",
      "Installing collected packages: kafka-python\n",
      "Successfully installed kafka-python-2.0.2\n"
     ]
    },
    {
     "name": "stderr",
     "output_type": "stream",
     "text": [
      "\n",
      "[notice] A new release of pip is available: 23.3.1 -> 23.3.2\n",
      "[notice] To update, run: python.exe -m pip install --upgrade pip\n"
     ]
    }
   ],
   "source": [
    "# Install Kafka Python Client\n",
    "\n",
    "!pip install kafka-python"
   ]
  },
  {
   "cell_type": "code",
   "execution_count": 3,
   "outputs": [],
   "source": [
    "from time import sleep # to give time\n",
    "from json import dumps # for Jason Data\n",
    "from kafka import KafkaProducer"
   ],
   "metadata": {
    "collapsed": false,
    "ExecuteTime": {
     "end_time": "2023-12-29T06:14:56.003807100Z",
     "start_time": "2023-12-29T06:14:55.894159800Z"
    }
   }
  },
  {
   "cell_type": "code",
   "execution_count": 7,
   "outputs": [],
   "source": [
    "topic_name = 'hello_world'"
   ],
   "metadata": {
    "collapsed": false,
    "ExecuteTime": {
     "end_time": "2023-12-29T06:21:34.930328800Z",
     "start_time": "2023-12-29T06:21:34.912345Z"
    }
   }
  },
  {
   "cell_type": "code",
   "execution_count": 8,
   "outputs": [],
   "source": [
    "producer = KafkaProducer(bootstrap_servers = ['localhost:9092'], value_serializer = lambda  x: dumps(x).encode('utf-8'))"
   ],
   "metadata": {
    "collapsed": false,
    "ExecuteTime": {
     "end_time": "2023-12-29T06:21:37.218267300Z",
     "start_time": "2023-12-29T06:21:37.098227500Z"
    }
   }
  },
  {
   "cell_type": "code",
   "execution_count": 9,
   "outputs": [
    {
     "name": "stdout",
     "output_type": "stream",
     "text": [
      "{'number': 0}\n",
      "{'number': 1}\n",
      "{'number': 2}\n",
      "{'number': 3}\n",
      "{'number': 4}\n",
      "{'number': 5}\n",
      "{'number': 6}\n",
      "{'number': 7}\n",
      "{'number': 8}\n",
      "{'number': 9}\n",
      "{'number': 10}\n",
      "{'number': 11}\n",
      "{'number': 12}\n",
      "{'number': 13}\n",
      "{'number': 14}\n",
      "{'number': 15}\n",
      "{'number': 16}\n",
      "{'number': 17}\n"
     ]
    },
    {
     "ename": "KeyboardInterrupt",
     "evalue": "",
     "output_type": "error",
     "traceback": [
      "\u001B[1;31m---------------------------------------------------------------------------\u001B[0m",
      "\u001B[1;31mKeyboardInterrupt\u001B[0m                         Traceback (most recent call last)",
      "Cell \u001B[1;32mIn[9], line 5\u001B[0m\n\u001B[0;32m      3\u001B[0m \u001B[38;5;28mprint\u001B[39m(data)\n\u001B[0;32m      4\u001B[0m producer\u001B[38;5;241m.\u001B[39msend(topic_name, value \u001B[38;5;241m=\u001B[39m data)\n\u001B[1;32m----> 5\u001B[0m \u001B[43msleep\u001B[49m\u001B[43m(\u001B[49m\u001B[38;5;241;43m5\u001B[39;49m\u001B[43m)\u001B[49m\n",
      "\u001B[1;31mKeyboardInterrupt\u001B[0m: "
     ]
    }
   ],
   "source": [
    "for e in range(1000):\n",
    "    data = {'number': e}\n",
    "    print(data)\n",
    "    producer.send(topic_name, value = data)\n",
    "    sleep(5)"
   ],
   "metadata": {
    "collapsed": false,
    "ExecuteTime": {
     "end_time": "2023-12-29T06:23:18.449555800Z",
     "start_time": "2023-12-29T06:21:48.289944900Z"
    }
   }
  },
  {
   "cell_type": "code",
   "execution_count": null,
   "outputs": [],
   "source": [],
   "metadata": {
    "collapsed": false
   }
  }
 ],
 "metadata": {
  "kernelspec": {
   "display_name": "Python 3",
   "language": "python",
   "name": "python3"
  },
  "language_info": {
   "codemirror_mode": {
    "name": "ipython",
    "version": 2
   },
   "file_extension": ".py",
   "mimetype": "text/x-python",
   "name": "python",
   "nbconvert_exporter": "python",
   "pygments_lexer": "ipython2",
   "version": "2.7.6"
  }
 },
 "nbformat": 4,
 "nbformat_minor": 0
}
